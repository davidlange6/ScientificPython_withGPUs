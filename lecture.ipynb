{
 "cells": [
  {
   "cell_type": "markdown",
   "id": "75651bb6-36d7-4f65-993d-f84e1e5e04f9",
   "metadata": {},
   "source": [
    "# Lesson 5: Python on GPUs"
   ]
  },
  {
   "cell_type": "markdown",
   "id": "f561f5e4-29ac-4436-80f2-d973cc1c2c6a",
   "metadata": {},
   "source": [
    "Lets see what sort of GPU we have"
   ]
  },
  {
   "cell_type": "code",
   "execution_count": 1,
   "id": "d8497ea0-4388-480e-bd2a-8531141dfcea",
   "metadata": {},
   "outputs": [
    {
     "name": "stdout",
     "output_type": "stream",
     "text": [
      "Sun Jun 15 12:28:56 2025       \n",
      "+-----------------------------------------------------------------------------------------+\n",
      "| NVIDIA-SMI 575.51.03              Driver Version: 575.51.03      CUDA Version: 12.9     |\n",
      "|-----------------------------------------+------------------------+----------------------+\n",
      "| GPU  Name                 Persistence-M | Bus-Id          Disp.A | Volatile Uncorr. ECC |\n",
      "| Fan  Temp   Perf          Pwr:Usage/Cap |           Memory-Usage | GPU-Util  Compute M. |\n",
      "|                                         |                        |               MIG M. |\n",
      "|=========================================+========================+======================|\n",
      "|   0  NVIDIA GeForce GTX 1080 Ti     Off |   00000000:DA:00.0 Off |                  N/A |\n",
      "| 28%   29C    P8              8W /  250W |       3MiB /  11264MiB |      0%      Default |\n",
      "|                                         |                        |                  N/A |\n",
      "+-----------------------------------------+------------------------+----------------------+\n",
      "                                                                                         \n",
      "+-----------------------------------------------------------------------------------------+\n",
      "| Processes:                                                                              |\n",
      "|  GPU   GI   CI              PID   Type   Process name                        GPU Memory |\n",
      "|        ID   ID                                                               Usage      |\n",
      "|=========================================================================================|\n",
      "|  No running processes found                                                             |\n",
      "+-----------------------------------------------------------------------------------------+\n"
     ]
    }
   ],
   "source": [
    "!nvidia-smi"
   ]
  },
  {
   "cell_type": "code",
   "execution_count": 2,
   "id": "155c8d5f-871b-41ea-aee2-9624c3348b34",
   "metadata": {},
   "outputs": [
    {
     "name": "stdout",
     "output_type": "stream",
     "text": [
      "System info:\n",
      "--------------------------------------------------------------------------------\n",
      "__Time Stamp__\n",
      "Report started (local time)                   : 2025-06-15 12:28:58.257960\n",
      "UTC start time                                : 2025-06-15 12:28:58.257963\n",
      "Running time (s)                              : 3.213224\n",
      "\n",
      "__Hardware Information__\n",
      "Machine                                       : x86_64\n",
      "CPU Name                                      : skylake-avx512\n",
      "CPU Count                                     : 48\n",
      "Number of accessible CPUs                     : 48\n",
      "List of accessible CPUs cores                 : 0 1 2 3 4 5 6 7 8 9 10 11 12 13 14 15 16 17 18 19 20 21 22 23 24 25 26 27 28 29 30 31 32 33 34 35 36 37 38 39 40 41 42 43 44 45 46 47\n",
      "CFS Restrictions (CPUs worth of runtime)      : None\n",
      "\n",
      "CPU Features                                  : 64bit adx aes avx avx2 avx512bw\n",
      "                                                avx512cd avx512dq avx512f avx512vl\n",
      "                                                bmi bmi2 clflushopt clwb cmov\n",
      "                                                crc32 cx16 cx8 f16c fma fsgsbase\n",
      "                                                fxsr invpcid lzcnt mmx movbe\n",
      "                                                pclmul pku popcnt prfchw rdrnd\n",
      "                                                rdseed rtm sahf sse sse2 sse3\n",
      "                                                sse4.1 sse4.2 ssse3 xsave xsavec\n",
      "                                                xsaveopt xsaves\n",
      "\n",
      "Memory Total (MB)                             : 94778\n",
      "Memory Available (MB)                         : 79901\n",
      "\n",
      "__OS Information__\n",
      "Platform Name                                 : Linux-5.14.0-503.38.1.el9_5.x86_64-x86_64-with-glibc2.35\n",
      "Platform Release                              : 5.14.0-503.38.1.el9_5.x86_64\n",
      "OS Name                                       : Linux\n",
      "OS Version                                    : #1 SMP PREEMPT_DYNAMIC Fri Apr 18 08:52:10 EDT 2025\n",
      "OS Specific Version                           : ?\n",
      "Libc Version                                  : glibc 2.35\n",
      "\n",
      "__Python Information__\n",
      "Python Compiler                               : GCC 11.2.0\n",
      "Python Implementation                         : CPython\n",
      "Python Version                                : 3.10.18\n",
      "Python Locale                                 : en_US.UTF-8\n",
      "\n",
      "__Numba Toolchain Versions__\n",
      "Numba Version                                 : 0.61.2\n",
      "llvmlite Version                              : 0.44.0\n",
      "\n",
      "__LLVM Information__\n",
      "LLVM Version                                  : 15.0.7\n",
      "\n",
      "__CUDA Information__\n",
      "CUDA Target Implementation                    : Built-in\n",
      "CUDA Device Initialized                       : True\n",
      "CUDA Driver Version                           : 12.9\n",
      "CUDA Runtime Version                          : 12.4\n",
      "CUDA NVIDIA Bindings Available                : False\n",
      "CUDA NVIDIA Bindings In Use                   : False\n",
      "CUDA Minor Version Compatibility Available    : False\n",
      "CUDA Minor Version Compatibility Needed       : False\n",
      "CUDA Minor Version Compatibility In Use       : False\n",
      "CUDA Detect Output:\n",
      "Found 1 CUDA devices\n",
      "id 0    b'NVIDIA GeForce GTX 1080 Ti'                              [SUPPORTED]\n",
      "                      Compute Capability: 6.1\n",
      "                           PCI Device ID: 0\n",
      "                              PCI Bus ID: 218\n",
      "                                    UUID: GPU-27a1e39e-8371-8b7e-5d4f-4a3174029549\n",
      "                                Watchdog: Disabled\n",
      "             FP32/FP64 Performance Ratio: 32\n",
      "Summary:\n",
      "\t1/1 devices are supported\n",
      "\n",
      "CUDA Libraries Test Output:\n",
      "Finding driver from candidates:\n",
      "\tlibcuda.so\n",
      "\tlibcuda.so.1\n",
      "\t/usr/lib/libcuda.so\n",
      "\t/usr/lib/libcuda.so.1\n",
      "\t/usr/lib64/libcuda.so\n",
      "\t/usr/lib64/libcuda.so.1\n",
      "Using loader <class 'ctypes.CDLL'>\n",
      "\tTrying to load driver...\tok\n",
      "\t\tLoaded from libcuda.so\n",
      "\tMapped libcuda.so paths:\n",
      "\t\t/usr/lib/x86_64-linux-gnu/libcuda.so.575.51.03\n",
      "Finding nvvm from Conda environment (NVIDIA package)\n",
      "\tLocated at /srv/conda/envs/notebook/nvvm/lib64/libnvvm.so.4.0.0\n",
      "\tTrying to open library...\tok\n",
      "Finding nvrtc from Conda environment (NVIDIA package)\n",
      "\tLocated at /srv/conda/envs/notebook/lib/libnvrtc.so.12.4.127\n",
      "\tTrying to open library...\tok\n",
      "Finding cudart from Conda environment (NVIDIA package)\n",
      "\tLocated at /srv/conda/envs/notebook/lib/libcudart.so.12.4.127\n",
      "\tTrying to open library...\tok\n",
      "Finding cudadevrt from Conda environment (NVIDIA package)\n",
      "\tLocated at /srv/conda/envs/notebook/lib/libcudadevrt.a\n",
      "\tChecking library...\tok\n",
      "Finding libdevice from Conda environment (NVIDIA package)\n",
      "\tLocated at /srv/conda/envs/notebook/nvvm/libdevice/libdevice.10.bc\n",
      "\tChecking library...\tok\n",
      "\n",
      "\n",
      "__NumPy Information__\n",
      "NumPy Version                                 : 2.2.6\n",
      "NumPy Supported SIMD features                 : ('MMX', 'SSE', 'SSE2', 'SSE3', 'SSSE3', 'SSE41', 'POPCNT', 'SSE42', 'AVX', 'F16C', 'FMA3', 'AVX2', 'AVX512F', 'AVX512CD', 'AVX512VL', 'AVX512BW', 'AVX512DQ', 'AVX512_SKX')\n",
      "NumPy Supported SIMD dispatch                 : ('SSSE3', 'SSE41', 'POPCNT', 'SSE42', 'AVX', 'F16C', 'FMA3', 'AVX2', 'AVX512F', 'AVX512CD', 'AVX512_KNL', 'AVX512_KNM', 'AVX512_SKX', 'AVX512_CLX', 'AVX512_CNL', 'AVX512_ICL')\n",
      "NumPy Supported SIMD baseline                 : ('SSE', 'SSE2', 'SSE3')\n",
      "NumPy AVX512_SKX support detected             : True\n",
      "\n",
      "__SVML Information__\n",
      "SVML State, config.USING_SVML                 : False\n",
      "SVML Library Loaded                           : False\n",
      "llvmlite Using SVML Patched LLVM              : True\n",
      "SVML Operational                              : False\n",
      "\n",
      "__Threading Layer Information__\n",
      "TBB Threading Layer Available                 : False\n",
      "+--> Disabled due to Unknown import problem.\n",
      "OpenMP Threading Layer Available              : True\n",
      "+-->Vendor: GNU\n",
      "Workqueue Threading Layer Available           : True\n",
      "+-->Workqueue imported successfully.\n",
      "\n",
      "__Numba Environment Variable Information__\n",
      "None found.\n",
      "\n",
      "__Conda Information__\n",
      "Conda Build                                   : not installed\n",
      "Conda Env                                     : 24.3.0\n",
      "Conda Platform                                : linux-64\n",
      "Conda Python Version                          : 3.12.11.final.0\n",
      "Conda Root Writable                           : True\n",
      "\n",
      "__Installed Packages__\n",
      "_libgcc_mutex             0.1                 conda_forge    conda-forge\n",
      "_openmp_mutex             4.5                       2_gnu    conda-forge\n",
      "_sysroot_linux-64_curr_repodata_hack 3                   haa98f57_10    defaults\n",
      "absl-py                   2.3.0                    pypi_0    pypi\n",
      "aioboto3                  14.3.0                   pypi_0    pypi\n",
      "aiobotocore               2.22.0                   pypi_0    pypi\n",
      "aiofiles                  24.1.0                   pypi_0    pypi\n",
      "aiohappyeyeballs          2.6.1                    pypi_0    pypi\n",
      "aiohttp                   3.12.13                  pypi_0    pypi\n",
      "aiohttp-retry             2.9.1                    pypi_0    pypi\n",
      "aioitertools              0.12.0                   pypi_0    pypi\n",
      "aiosignal                 1.3.2                    pypi_0    pypi\n",
      "alembic                   1.13.1             pyhd8ed1ab_1    conda-forge\n",
      "annotated-types           0.7.0                    pypi_0    pypi\n",
      "anyio                     4.3.0              pyhd8ed1ab_0    conda-forge\n",
      "argon2-cffi               23.1.0             pyhd8ed1ab_0    conda-forge\n",
      "argon2-cffi-bindings      21.2.0          py310h2372a71_4    conda-forge\n",
      "arrow                     1.3.0              pyhd8ed1ab_0    conda-forge\n",
      "arrow-cpp                 19.0.0               h865e1df_2    defaults\n",
      "asttokens                 2.4.1              pyhd8ed1ab_0    conda-forge\n",
      "astunparse                1.6.3                    pypi_0    pypi\n",
      "async-lru                 2.0.4              pyhd8ed1ab_0    conda-forge\n",
      "async-timeout             5.0.1                    pypi_0    pypi\n",
      "async_generator           1.10                       py_0    conda-forge\n",
      "attr                      2.5.1                h166bdaf_1    conda-forge\n",
      "attrs                     23.2.0             pyh71513ae_0    conda-forge\n",
      "awkward                   2.8.4                    pypi_0    pypi\n",
      "awkward-cpp               46                       pypi_0    pypi\n",
      "aws-c-auth                0.6.19               h5eee18b_0    defaults\n",
      "aws-c-cal                 0.5.20               hdbd6064_0    defaults\n",
      "aws-c-common              0.8.5                h5eee18b_0    defaults\n",
      "aws-c-compression         0.2.16               h5eee18b_0    defaults\n",
      "aws-c-event-stream        0.2.15               h6a678d5_0    defaults\n",
      "aws-c-http                0.6.25               h5eee18b_0    defaults\n",
      "aws-c-io                  0.13.10              h5eee18b_0    defaults\n",
      "aws-c-mqtt                0.7.13               h5eee18b_0    defaults\n",
      "aws-c-s3                  0.1.51               hdbd6064_0    defaults\n",
      "aws-c-sdkutils            0.1.6                h5eee18b_0    defaults\n",
      "aws-checksums             0.1.13               h5eee18b_0    defaults\n",
      "aws-crt-cpp               0.18.16              h6a678d5_0    defaults\n",
      "aws-sdk-cpp               1.11.212             hecad206_0    defaults\n",
      "babel                     2.14.0             pyhd8ed1ab_0    conda-forge\n",
      "beautifulsoup4            4.12.3             pyha770c72_0    conda-forge\n",
      "binutils                  2.40                 h1680402_0    defaults\n",
      "binutils_impl_linux-64    2.40                 hf600244_0    conda-forge\n",
      "binutils_linux-64         2.40.0               hc2dff05_2    defaults\n",
      "blas                      1.0                    openblas    defaults\n",
      "bleach                    6.1.0              pyhd8ed1ab_0    conda-forge\n",
      "blinker                   1.7.0              pyhd8ed1ab_0    conda-forge\n",
      "blosc2                    3.4.0                    pypi_0    pypi\n",
      "bokeh                     3.7.3                    pypi_0    pypi\n",
      "boost-cpp                 1.73.0              h7f8727e_12    defaults\n",
      "boost-histogram           1.5.2                    pypi_0    pypi\n",
      "boto3                     1.37.3                   pypi_0    pypi\n",
      "botocore                  1.37.3                   pypi_0    pypi\n",
      "brotli-python             1.0.9           py310h6a678d5_9    defaults\n",
      "bzip2                     1.0.8                hd590300_5    conda-forge\n",
      "c-ares                    1.19.1               h5eee18b_0    defaults\n",
      "ca-certificates           2025.2.25            h06a4308_0    defaults\n",
      "cabinetry                 0.6.0                    pypi_0    pypi\n",
      "cached-property           1.5.2                hd8ed1ab_1    conda-forge\n",
      "cached_property           1.5.2              pyha770c72_1    conda-forge\n",
      "cachetools                5.5.2                    pypi_0    pypi\n",
      "cairo                     1.14.12              h7636065_2    defaults\n",
      "cccl                      2.3.2                h2c7f797_0    defaults\n",
      "certifi                   2025.4.26       py310h06a4308_0    defaults\n",
      "certipy                   0.1.3                      py_0    conda-forge\n",
      "cffi                      1.16.0          py310h2fee648_0    conda-forge\n",
      "charset-normalizer        3.3.2              pyhd8ed1ab_0    conda-forge\n",
      "clang-format              14.0.6          default_hc6dbbc7_2    defaults\n",
      "clang-format-14           14.0.6          default_hc6dbbc7_2    defaults\n",
      "clang-tools               14.0.6          default_hc6dbbc7_2    defaults\n",
      "click                     8.2.1                    pypi_0    pypi\n",
      "cloudpickle               3.1.1                    pypi_0    pypi\n",
      "cmake                     3.31.2               h27e300b_0    defaults\n",
      "coffea                    2025.3.0                 pypi_0    pypi\n",
      "comm                      0.2.2              pyhd8ed1ab_0    conda-forge\n",
      "contourpy                 1.3.2                    pypi_0    pypi\n",
      "correctionlib             2.7.0                    pypi_0    pypi\n",
      "cramjam                   2.10.0                   pypi_0    pypi\n",
      "cryptography              42.0.5          py310h75e40e8_0    conda-forge\n",
      "cuda-cccl                 12.4.127             h06a4308_2    defaults\n",
      "cuda-cccl_linux-64        12.4.127             h06a4308_2    defaults\n",
      "cuda-command-line-tools   12.4.1               h06a4308_1    defaults\n",
      "cuda-compiler             12.4.1               h6a678d5_1    defaults\n",
      "cuda-crt-dev_linux-64     12.4.131             h06a4308_0    defaults\n",
      "cuda-crt-tools            12.4.131             h06a4308_0    defaults\n",
      "cuda-cudart               12.4.127             h99ab3db_0    defaults\n",
      "cuda-cudart-dev           12.4.127             h99ab3db_0    defaults\n",
      "cuda-cudart-dev_linux-64  12.4.127             hd681fbe_0    defaults\n",
      "cuda-cudart-static        12.4.127             h99ab3db_0    defaults\n",
      "cuda-cudart-static_linux-64 12.4.127             hd681fbe_0    defaults\n",
      "cuda-cudart_linux-64      12.4.127             hd681fbe_0    defaults\n",
      "cuda-cuobjdump            12.4.127             h6a678d5_1    defaults\n",
      "cuda-cupti                12.4.127             h6a678d5_1    defaults\n",
      "cuda-cupti-dev            12.4.127             h6a678d5_1    defaults\n",
      "cuda-cuxxfilt             12.4.127             h6a678d5_1    defaults\n",
      "cuda-driver-dev           12.4.127             h99ab3db_0    defaults\n",
      "cuda-driver-dev_linux-64  12.4.127             hd681fbe_0    defaults\n",
      "cuda-gdb                  12.4.127             h122497a_1    defaults\n",
      "cuda-libraries            12.4.1               h06a4308_1    defaults\n",
      "cuda-libraries-dev        12.4.1               h06a4308_1    defaults\n",
      "cuda-nsight               12.4.127             h06a4308_1    defaults\n",
      "cuda-nvcc                 12.4.131             h02f8991_0    defaults\n",
      "cuda-nvcc-dev_linux-64    12.4.131             h4ee8466_0    defaults\n",
      "cuda-nvcc-impl            12.4.131             h99ab3db_0    defaults\n",
      "cuda-nvcc-tools           12.4.131             h99ab3db_0    defaults\n",
      "cuda-nvcc_linux-64        12.4.131             he92618c_0    defaults\n",
      "cuda-nvdisasm             12.4.127             h6a678d5_1    defaults\n",
      "cuda-nvml-dev             12.4.127             h6a678d5_1    defaults\n",
      "cuda-nvprof               12.4.127             h6a678d5_1    defaults\n",
      "cuda-nvprune              12.4.127             h6a678d5_1    defaults\n",
      "cuda-nvrtc                12.4.127             h99ab3db_1    defaults\n",
      "cuda-nvrtc-dev            12.4.127             h99ab3db_1    defaults\n",
      "cuda-nvtx                 12.4.127             h6a678d5_1    defaults\n",
      "cuda-nvvm-dev_linux-64    12.4.131             h06a4308_0    defaults\n",
      "cuda-nvvm-impl            12.4.131             h6a678d5_0    defaults\n",
      "cuda-nvvm-tools           12.4.131             h6a678d5_0    defaults\n",
      "cuda-nvvp                 12.4.127             h6a678d5_1    defaults\n",
      "cuda-opencl               12.4.127             h6a678d5_0    defaults\n",
      "cuda-opencl-dev           12.4.127             h6a678d5_0    defaults\n",
      "cuda-profiler-api         12.4.127             h06a4308_1    defaults\n",
      "cuda-sanitizer-api        12.4.127             h99ab3db_1    defaults\n",
      "cuda-toolkit              12.4.1               hb982923_0    defaults\n",
      "cuda-tools                12.4.1               h06a4308_1    defaults\n",
      "cuda-version              12.4                 hbda6634_3    defaults\n",
      "cuda-visual-tools         12.4.1               h06a4308_1    defaults\n",
      "cupy                      13.4.1          py310hab14140_1    conda-forge\n",
      "cupy-core                 13.4.1          py310h4564b94_1    conda-forge\n",
      "cycler                    0.12.1                   pypi_0    pypi\n",
      "dask                      2025.3.0                 pypi_0    pypi\n",
      "dask-awkward              2025.5.0                 pypi_0    pypi\n",
      "dask-histogram            2025.2.0                 pypi_0    pypi\n",
      "dask-labextension         7.0.0                    pypi_0    pypi\n",
      "debugpy                   1.8.1           py310hc6cd4ac_0    conda-forge\n",
      "decorator                 5.1.1              pyhd8ed1ab_0    conda-forge\n",
      "defusedxml                0.7.1              pyhd8ed1ab_0    conda-forge\n",
      "distributed               2025.3.0                 pypi_0    pypi\n",
      "dm-haiku                  0.0.14                   pypi_0    pypi\n",
      "entrypoints               0.4                pyhd8ed1ab_0    conda-forge\n",
      "exceptiongroup            1.2.0              pyhd8ed1ab_2    conda-forge\n",
      "executing                 2.0.1              pyhd8ed1ab_0    conda-forge\n",
      "expat                     2.7.1                h6a678d5_0    defaults\n",
      "fastrlock                 0.8.3           py310h5eee18b_0    defaults\n",
      "filelock                  3.18.0                   pypi_0    pypi\n",
      "fontconfig                2.12.6               h49f89f6_0    defaults\n",
      "fonttools                 4.58.4                   pypi_0    pypi\n",
      "fqdn                      1.5.1              pyhd8ed1ab_0    conda-forge\n",
      "freetype                  2.8                  hab7d2ae_1    defaults\n",
      "fribidi                   1.0.10               h7b6447c_0    defaults\n",
      "frozenlist                1.7.0                    pypi_0    pypi\n",
      "fsspec                    2025.3.2        py310he3bba80_0    defaults\n",
      "fsspec-xrootd             0.5.1                    pypi_0    pypi\n",
      "func-adl                  3.4.2                    pypi_0    pypi\n",
      "gcc_impl_linux-64         11.2.0               h1234567_1    defaults\n",
      "gcc_linux-64              11.2.0               h5c386dc_2    defaults\n",
      "gds-tools                 1.9.1.3              h99ab3db_1    defaults\n",
      "gflags                    2.2.2                h6a678d5_1    defaults\n",
      "glib                      2.78.4               h6a678d5_0    defaults\n",
      "glib-tools                2.78.4               h6a678d5_0    defaults\n",
      "glog                      0.5.0                h6a678d5_1    defaults\n",
      "gmp                       6.3.0                h6a678d5_0    defaults\n",
      "google-auth               2.40.3                   pypi_0    pypi\n",
      "graphite2                 1.3.14               h295c915_1    defaults\n",
      "graphviz                  2.40.1               h25d223c_0    defaults\n",
      "greenlet                  3.0.3           py310hc6cd4ac_0    conda-forge\n",
      "gxx_impl_linux-64         11.2.0               h1234567_1    defaults\n",
      "gxx_linux-64              11.2.0               hc2dff05_2    defaults\n",
      "h11                       0.14.0             pyhd8ed1ab_0    conda-forge\n",
      "h2                        4.1.0              pyhd8ed1ab_0    conda-forge\n",
      "h5py                      3.14.0                   pypi_0    pypi\n",
      "harfbuzz                  1.7.6                h5f0a787_1    defaults\n",
      "hepunits                  2.3.6                    pypi_0    pypi\n",
      "hist                      2.8.1                    pypi_0    pypi\n",
      "histoprint                2.6.0                    pypi_0    pypi\n",
      "hpack                     4.0.0              pyh9f0ad1d_0    conda-forge\n",
      "httpcore                  1.0.5              pyhd8ed1ab_0    conda-forge\n",
      "httpx                     0.27.0             pyhd8ed1ab_0    conda-forge\n",
      "hyperframe                6.0.1              pyhd8ed1ab_0    conda-forge\n",
      "icu                       58.2                 he6710b0_3    defaults\n",
      "idna                      3.6                pyhd8ed1ab_0    conda-forge\n",
      "iminuit                   2.31.1                   pypi_0    pypi\n",
      "importlib-metadata        7.1.0              pyha770c72_0    conda-forge\n",
      "importlib_metadata        7.1.0                hd8ed1ab_0    conda-forge\n",
      "importlib_resources       6.4.0              pyhd8ed1ab_0    conda-forge\n",
      "ipykernel                 6.29.3             pyhd33586a_0    conda-forge\n",
      "ipympl                    0.9.7                    pypi_0    pypi\n",
      "ipython                   8.22.2             pyh707e725_0    conda-forge\n",
      "ipython_genutils          0.2.0                      py_1    conda-forge\n",
      "ipywidgets                8.1.2              pyhd8ed1ab_0    conda-forge\n",
      "isoduration               20.11.0            pyhd8ed1ab_0    conda-forge\n",
      "jax                       0.6.1                    pypi_0    pypi\n",
      "jaxlib                    0.6.1                    pypi_0    pypi\n",
      "jedi                      0.19.1             pyhd8ed1ab_0    conda-forge\n",
      "jinja2                    3.1.3              pyhd8ed1ab_0    conda-forge\n",
      "jmespath                  1.0.1                    pypi_0    pypi\n",
      "jmp                       0.0.4                    pypi_0    pypi\n",
      "joblib                    1.5.1                    pypi_0    pypi\n",
      "jpeg                      9e                   h5eee18b_3    defaults\n",
      "json5                     0.9.24             pyhd8ed1ab_0    conda-forge\n",
      "jsonpatch                 1.33                     pypi_0    pypi\n",
      "jsonpointer               2.4             py310hff52083_3    conda-forge\n",
      "jsonschema                4.21.1             pyhd8ed1ab_0    conda-forge\n",
      "jsonschema-specifications 2023.12.1          pyhd8ed1ab_0    conda-forge\n",
      "jsonschema-with-format-nongpl 4.21.1             pyhd8ed1ab_0    conda-forge\n",
      "jupyter-lsp               2.2.4              pyhd8ed1ab_0    conda-forge\n",
      "jupyter-offlinenotebook   0.2.2              pyh1d7be83_0    conda-forge\n",
      "jupyter-resource-usage    1.0.2              pyhd8ed1ab_0    conda-forge\n",
      "jupyter-server-proxy      4.4.0                    pypi_0    pypi\n",
      "jupyter_client            7.4.9              pyhd8ed1ab_0    conda-forge\n",
      "jupyter_core              5.7.2           py310hff52083_0    conda-forge\n",
      "jupyter_events            0.10.0             pyhd8ed1ab_0    conda-forge\n",
      "jupyter_server            2.13.0             pyhd8ed1ab_0    conda-forge\n",
      "jupyter_server_terminals  0.5.3              pyhd8ed1ab_0    conda-forge\n",
      "jupyter_telemetry         0.1.0              pyhd8ed1ab_1    conda-forge\n",
      "jupyterhub-base           3.1.1              pyh2a2186d_0    conda-forge\n",
      "jupyterhub-singleuser     3.1.1              pyh2a2186d_0    conda-forge\n",
      "jupyterlab                4.1.5              pyhd8ed1ab_0    conda-forge\n",
      "jupyterlab-deck           0.2.0                    pypi_0    pypi\n",
      "jupyterlab-fonts          3.0.0                    pypi_0    pypi\n",
      "jupyterlab-mathjax3       4.3.0                    pypi_0    pypi\n",
      "jupyterlab_pygments       0.3.0              pyhd8ed1ab_1    conda-forge\n",
      "jupyterlab_server         2.25.4             pyhd8ed1ab_0    conda-forge\n",
      "jupyterlab_widgets        3.0.10             pyhd8ed1ab_0    conda-forge\n",
      "kernel-headers_linux-64   3.10.0              h57e8cba_10    defaults\n",
      "kiwisolver                1.4.8                    pypi_0    pypi\n",
      "krb5                      1.21.3               h143b758_0    defaults\n",
      "lark                      1.2.2                    pypi_0    pypi\n",
      "ld_impl_linux-64          2.40                 h41732ed_0    conda-forge\n",
      "lerc                      4.0.0                h6a678d5_0    defaults\n",
      "libabseil                 20250127.0      cxx17_h6a678d5_0    defaults\n",
      "libboost                  1.73.0              h28710b8_12    defaults\n",
      "libbrotlicommon           1.0.9                h5eee18b_9    defaults\n",
      "libbrotlidec              1.0.9                h5eee18b_9    defaults\n",
      "libbrotlienc              1.0.9                h5eee18b_9    defaults\n",
      "libcap                    2.75                 h39aace5_0    conda-forge\n",
      "libcbor                   0.10.2               hcb278e6_0    conda-forge\n",
      "libclang                  14.0.6          default_hc6dbbc7_2    defaults\n",
      "libclang-cpp14            14.0.6          default_hc6dbbc7_2    defaults\n",
      "libclang13                14.0.6          default_he11475f_2    defaults\n",
      "libcublas                 12.4.5.8             h99ab3db_1    defaults\n",
      "libcublas-dev             12.4.5.8             h99ab3db_1    defaults\n",
      "libcufft                  11.2.1.3             h99ab3db_1    defaults\n",
      "libcufft-dev              11.2.1.3             h99ab3db_1    defaults\n",
      "libcufile                 1.9.1.3              h99ab3db_1    defaults\n",
      "libcufile-dev             1.9.1.3              h99ab3db_1    defaults\n",
      "libcurand                 10.3.5.147           h99ab3db_1    defaults\n",
      "libcurand-dev             10.3.5.147           h99ab3db_1    defaults\n",
      "libcurl                   8.4.0                hca28451_0    conda-forge\n",
      "libcusolver               11.6.1.9             h99ab3db_1    defaults\n",
      "libcusolver-dev           11.6.1.9             h99ab3db_1    defaults\n",
      "libcusparse               12.3.1.170           h99ab3db_1    defaults\n",
      "libcusparse-dev           12.3.1.170           h99ab3db_1    defaults\n",
      "libdeflate                1.22                 h5eee18b_0    defaults\n",
      "libedit                   3.1.20230828         h5eee18b_0    defaults\n",
      "libev                     4.33                 h7f8727e_1    defaults\n",
      "libevent                  2.1.12               hdbd6064_1    defaults\n",
      "libffi                    3.4.2                h7f98852_5    conda-forge\n",
      "libfido2                  1.14.0               h4446dcb_0    conda-forge\n",
      "libgcc                    15.1.0               h767d61c_2    conda-forge\n",
      "libgcc-devel_linux-64     11.2.0               h1234567_1    defaults\n",
      "libgcc-ng                 15.1.0               h69a702a_2    conda-forge\n",
      "libgfortran-ng            11.2.0               h00389a5_1    defaults\n",
      "libgfortran5              11.2.0               h1234567_1    defaults\n",
      "libglib                   2.78.4               hdc74915_0    defaults\n",
      "libgomp                   15.1.0               h767d61c_2    conda-forge\n",
      "libgrpc                   1.71.0               h2d74bed_0    defaults\n",
      "libiconv                  1.16                 h5eee18b_3    defaults\n",
      "libllvm14                 14.0.6               hecde1de_4    defaults\n",
      "libnghttp2                1.57.0               h2d74bed_0    defaults\n",
      "libnpp                    12.2.5.30            h99ab3db_1    defaults\n",
      "libnpp-dev                12.2.5.30            h99ab3db_1    defaults\n",
      "libnsl                    2.0.1                hd590300_0    conda-forge\n",
      "libnvfatbin               12.4.127             h7934f7d_2    defaults\n",
      "libnvfatbin-dev           12.4.127             h7934f7d_2    defaults\n",
      "libnvjitlink              12.4.127             h99ab3db_1    defaults\n",
      "libnvjitlink-dev          12.4.127             h99ab3db_1    defaults\n",
      "libnvjpeg                 12.3.1.117           h6a678d5_1    defaults\n",
      "libnvjpeg-dev             12.3.1.117           h06a4308_1    defaults\n",
      "libopenblas               0.3.29               ha39b09d_0    defaults\n",
      "libpng                    1.6.39               h5eee18b_0    defaults\n",
      "libprotobuf               5.29.3               hc99497a_0    defaults\n",
      "libre2-11                 2024.07.02           h6a678d5_0    defaults\n",
      "libsodium                 1.0.18               h36c2ea0_1    conda-forge\n",
      "libsqlite                 3.45.2               h2797004_0    conda-forge\n",
      "libssh2                   1.11.1               h251f7ec_0    defaults\n",
      "libstdcxx                 15.1.0               h8f9b012_2    conda-forge\n",
      "libstdcxx-devel_linux-64  11.2.0               h1234567_1    defaults\n",
      "libstdcxx-ng              13.2.0               h7e041cc_5    conda-forge\n",
      "libthrift                 0.15.0               h1795dd8_2    defaults\n",
      "libtiff                   4.5.1                hffd6297_1    defaults\n",
      "libtool                   2.4.7                h6a678d5_0    defaults\n",
      "libudev1                  257.6                hbe16f8c_0    conda-forge\n",
      "libuuid                   1.41.5               h5eee18b_0    defaults\n",
      "libuv                     1.48.0               h5eee18b_0    defaults\n",
      "libwebp-base              1.3.2                h5eee18b_1    defaults\n",
      "libxcb                    1.17.0               h9b100fa_0    defaults\n",
      "libxcrypt                 4.4.36               hd590300_1    conda-forge\n",
      "libxml2                   2.9.14               h74e7548_0    defaults\n",
      "libzlib                   1.2.13               hd590300_5    conda-forge\n",
      "llvmlite                  0.44.0                   pypi_0    pypi\n",
      "locket                    1.0.0                    pypi_0    pypi\n",
      "lz4                       4.3.2           py310h5eee18b_1    defaults\n",
      "lz4-c                     1.9.4                h6a678d5_1    defaults\n",
      "make-it-sync              2.0.0                    pypi_0    pypi\n",
      "mako                      1.3.2              pyhd8ed1ab_0    conda-forge\n",
      "markdown-it-py            3.0.0                    pypi_0    pypi\n",
      "markupsafe                2.1.5           py310h2372a71_0    conda-forge\n",
      "matplotlib                3.10.3                   pypi_0    pypi\n",
      "matplotlib-inline         0.1.6              pyhd8ed1ab_0    conda-forge\n",
      "mdurl                     0.1.2                    pypi_0    pypi\n",
      "mistune                   3.0.2              pyhd8ed1ab_0    conda-forge\n",
      "ml-dtypes                 0.5.1                    pypi_0    pypi\n",
      "mplhep                    0.3.59                   pypi_0    pypi\n",
      "mplhep-data               0.0.4                    pypi_0    pypi\n",
      "msgpack                   1.1.1                    pypi_0    pypi\n",
      "multidict                 6.4.4                    pypi_0    pypi\n",
      "narwhals                  1.42.1                   pypi_0    pypi\n",
      "nbclassic                 1.0.0              pyhb4ecaf3_1    conda-forge\n",
      "nbclient                  0.10.0             pyhd8ed1ab_0    conda-forge\n",
      "nbconvert                 7.16.3               hd8ed1ab_0    conda-forge\n",
      "nbconvert-core            7.16.3             pyhd8ed1ab_0    conda-forge\n",
      "nbconvert-pandoc          7.16.3               hd8ed1ab_0    conda-forge\n",
      "nbformat                  5.10.3             pyhd8ed1ab_0    conda-forge\n",
      "ncurses                   6.5                  h2d0b736_3    conda-forge\n",
      "ndindex                   1.10.0                   pypi_0    pypi\n",
      "nest-asyncio              1.6.0              pyhd8ed1ab_0    conda-forge\n",
      "nodejs                    10.13.0              he6710b0_0    defaults\n",
      "nomkl                     3.0                           0    defaults\n",
      "notebook                  6.5.6              pyha770c72_0    conda-forge\n",
      "notebook-shim             0.2.4              pyhd8ed1ab_0    conda-forge\n",
      "nsight-compute            2024.1.1.4                    0    nvidia/label/cuda-12.4.1\n",
      "numba                     0.61.2                   pypi_0    pypi\n",
      "numexpr                   2.11.0                   pypi_0    pypi\n",
      "numpy                     2.2.6                    pypi_0    pypi\n",
      "nvidia-nccl-cu12          2.27.3                   pypi_0    pypi\n",
      "oauthlib                  3.2.2              pyhd8ed1ab_0    conda-forge\n",
      "ocl-icd                   2.3.2                h5eee18b_1    defaults\n",
      "openssh                   9.6p1                h2d3b35a_0    conda-forge\n",
      "openssl                   3.2.1                hd590300_1    conda-forge\n",
      "opt-einsum                3.4.0                    pypi_0    pypi\n",
      "orc                       2.1.1                hd396ef6_0    defaults\n",
      "overrides                 7.7.0              pyhd8ed1ab_0    conda-forge\n",
      "packaging                 24.0               pyhd8ed1ab_0    conda-forge\n",
      "pamela                    1.1.0              pyh1a96a4e_0    conda-forge\n",
      "pandas                    2.3.0                    pypi_0    pypi\n",
      "pandoc                    3.1.12.3             ha770c72_0    conda-forge\n",
      "pandocfilters             1.5.0              pyhd8ed1ab_0    conda-forge\n",
      "pango                     1.42.0               h377f3fa_0    defaults\n",
      "parso                     0.8.3              pyhd8ed1ab_0    conda-forge\n",
      "partd                     1.4.2                    pypi_0    pypi\n",
      "particle                  0.25.4                   pypi_0    pypi\n",
      "pcre2                     10.42                hebb0a14_1    defaults\n",
      "perl                      5.32.1          0_h5eee18b_perl5    defaults\n",
      "pexpect                   4.9.0              pyhd8ed1ab_0    conda-forge\n",
      "pickleshare               0.7.5                   py_1003    conda-forge\n",
      "pillow                    11.2.1                   pypi_0    pypi\n",
      "pip                       25.1               pyhc872135_2    defaults\n",
      "pixman                    0.40.0               h7f8727e_1    defaults\n",
      "pkgutil-resolve-name      1.3.10             pyhd8ed1ab_1    conda-forge\n",
      "platformdirs              4.2.0              pyhd8ed1ab_0    conda-forge\n",
      "prometheus_client         0.20.0             pyhd8ed1ab_0    conda-forge\n",
      "prompt-toolkit            3.0.42             pyha770c72_0    conda-forge\n",
      "propcache                 0.3.2                    pypi_0    pypi\n",
      "protobuf                  6.31.1                   pypi_0    pypi\n",
      "psutil                    5.9.8           py310h2372a71_0    conda-forge\n",
      "pthread-stubs             0.3                  h0ce48e5_1    defaults\n",
      "ptyprocess                0.7.0              pyhd3deb0d_0    conda-forge\n",
      "pure_eval                 0.2.2              pyhd8ed1ab_0    conda-forge\n",
      "py-cpuinfo                9.0.0                    pypi_0    pypi\n",
      "pyarrow                   20.0.0                   pypi_0    pypi\n",
      "pyasn1                    0.6.1                    pypi_0    pypi\n",
      "pyasn1-modules            0.4.2                    pypi_0    pypi\n",
      "pybind11                  2.13.6                   pypi_0    pypi\n",
      "pycparser                 2.21               pyhd8ed1ab_0    conda-forge\n",
      "pydantic                  2.11.7                   pypi_0    pypi\n",
      "pydantic-core             2.33.2                   pypi_0    pypi\n",
      "pygments                  2.17.2             pyhd8ed1ab_0    conda-forge\n",
      "pyhf                      0.7.6                    pypi_0    pypi\n",
      "pyjwt                     2.8.0              pyhd8ed1ab_1    conda-forge\n",
      "pyopenssl                 24.0.0             pyhd8ed1ab_0    conda-forge\n",
      "pyparsing                 3.2.3                    pypi_0    pypi\n",
      "pyshp                     2.3.1                    pypi_0    pypi\n",
      "pysocks                   1.7.1              pyha2e5f31_6    conda-forge\n",
      "python                    3.10.18              h1a3bd86_0    defaults\n",
      "python-dateutil           2.9.0              pyhd8ed1ab_0    conda-forge\n",
      "python-fastjsonschema     2.19.1             pyhd8ed1ab_0    conda-forge\n",
      "python-graphviz           0.20.3                   pypi_0    pypi\n",
      "python-json-logger        2.0.7              pyhd8ed1ab_0    conda-forge\n",
      "python-xxhash             3.5.0           py310h5eee18b_0    defaults\n",
      "python_abi                3.10                    2_cp310    conda-forge\n",
      "pytz                      2024.1             pyhd8ed1ab_0    conda-forge\n",
      "pyyaml                    6.0.1           py310h2372a71_1    conda-forge\n",
      "pyzmq                     24.0.1          py310h330234f_1    conda-forge\n",
      "qastle                    0.18.1                   pypi_0    pypi\n",
      "re2                       2024.07.02           hdb19cb5_0    defaults\n",
      "readline                  8.2                  h8228510_1    conda-forge\n",
      "referencing               0.34.0             pyhd8ed1ab_0    conda-forge\n",
      "requests                  2.32.4                   pypi_0    pypi\n",
      "rfc3339-validator         0.1.4              pyhd8ed1ab_0    conda-forge\n",
      "rfc3986-validator         0.1.1              pyh9f0ad1d_0    conda-forge\n",
      "rhash                     1.4.3                hdbd6064_0    defaults\n",
      "rich                      14.0.0                   pypi_0    pypi\n",
      "rpds-py                   0.18.0          py310hcb5633a_0    conda-forge\n",
      "rsa                       4.9.1                    pypi_0    pypi\n",
      "ruamel-yaml               0.18.14                  pypi_0    pypi\n",
      "ruamel.yaml.clib          0.2.8           py310h2372a71_0    conda-forge\n",
      "s2n                       1.3.27               hdbd6064_0    defaults\n",
      "s3transfer                0.11.3                   pypi_0    pypi\n",
      "scikit-learn              1.7.0                    pypi_0    pypi\n",
      "scipy                     1.15.3                   pypi_0    pypi\n",
      "seaborn                   0.13.2                   pypi_0    pypi\n",
      "send2trash                1.8.2              pyh41d4057_0    conda-forge\n",
      "servicex                  3.1.1                    pypi_0    pypi\n",
      "setuptools                69.2.0             pyhd8ed1ab_0    conda-forge\n",
      "shellingham               1.5.4                    pypi_0    pypi\n",
      "simpervisor               1.0.0                    pypi_0    pypi\n",
      "six                       1.16.0             pyh6c4a22f_0    conda-forge\n",
      "snappy                    1.2.1                h6a678d5_0    defaults\n",
      "sniffio                   1.3.1              pyhd8ed1ab_0    conda-forge\n",
      "sortedcontainers          2.4.0                    pypi_0    pypi\n",
      "soupsieve                 2.5                pyhd8ed1ab_1    conda-forge\n",
      "sqlalchemy                2.0.29          py310h2372a71_0    conda-forge\n",
      "sqlite                    3.45.3               h5eee18b_0    defaults\n",
      "stack_data                0.6.2              pyhd8ed1ab_0    conda-forge\n",
      "sysroot_linux-64          2.17                h57e8cba_10    defaults\n",
      "tables                    3.10.1                   pypi_0    pypi\n",
      "tabulate                  0.9.0                    pypi_0    pypi\n",
      "tblib                     3.1.0                    pypi_0    pypi\n",
      "tenacity                  9.1.2                    pypi_0    pypi\n",
      "terminado                 0.18.1             pyh0d859eb_0    conda-forge\n",
      "threadpoolctl             3.6.0                    pypi_0    pypi\n",
      "tinycss2                  1.2.1              pyhd8ed1ab_0    conda-forge\n",
      "tinydb                    4.8.2                    pypi_0    pypi\n",
      "tk                        8.6.14               h993c535_1    defaults\n",
      "toml                      0.10.2                   pypi_0    pypi\n",
      "tomli                     2.0.1              pyhd8ed1ab_0    conda-forge\n",
      "toolz                     1.0.0                    pypi_0    pypi\n",
      "tornado                   6.4             py310h2372a71_0    conda-forge\n",
      "tqdm                      4.67.1                   pypi_0    pypi\n",
      "traitlets                 5.14.2             pyhd8ed1ab_0    conda-forge\n",
      "typer                     0.16.0                   pypi_0    pypi\n",
      "types-python-dateutil     2.9.0.20240316     pyhd8ed1ab_0    conda-forge\n",
      "types-pyyaml              6.0.12.20250516          pypi_0    pypi\n",
      "typing-extensions         4.14.0                   pypi_0    pypi\n",
      "typing-inspection         0.4.1                    pypi_0    pypi\n",
      "typing_utils              0.1.0              pyhd8ed1ab_0    conda-forge\n",
      "tzdata                    2025.2                   pypi_0    pypi\n",
      "uhi                       0.5.0                    pypi_0    pypi\n",
      "uproot                    5.6.2                    pypi_0    pypi\n",
      "uri-template              1.3.0              pyhd8ed1ab_0    conda-forge\n",
      "urllib3                   2.2.1              pyhd8ed1ab_0    conda-forge\n",
      "utf8proc                  2.6.1                h5eee18b_1    defaults\n",
      "vector                    1.6.2                    pypi_0    pypi\n",
      "vim                       9.1.1397        py310pl5321hc40cd9f_0    conda-forge\n",
      "wcwidth                   0.2.13             pyhd8ed1ab_0    conda-forge\n",
      "webcolors                 1.13               pyhd8ed1ab_0    conda-forge\n",
      "webencodings              0.5.1              pyhd8ed1ab_2    conda-forge\n",
      "websocket-client          1.7.0              pyhd8ed1ab_0    conda-forge\n",
      "wheel                     0.43.0             pyhd8ed1ab_1    conda-forge\n",
      "widgetsnbextension        4.0.10             pyhd8ed1ab_0    conda-forge\n",
      "wrapt                     1.17.2                   pypi_0    pypi\n",
      "xgboost                   3.0.2                    pypi_0    pypi\n",
      "xorg-libice               1.1.2                h9b100fa_0    defaults\n",
      "xorg-libsm                1.2.6                h9b100fa_0    defaults\n",
      "xorg-libx11               1.8.12               h9b100fa_1    defaults\n",
      "xorg-libxau               1.0.12               h9b100fa_0    defaults\n",
      "xorg-libxdmcp             1.1.5                h9b100fa_0    defaults\n",
      "xorg-libxt                1.3.1                h9b100fa_0    defaults\n",
      "xorg-xorgproto            2024.1               h5eee18b_1    defaults\n",
      "xxhash                    0.8.0                h7f8727e_3    defaults\n",
      "xyzservices               2025.4.0                 pypi_0    pypi\n",
      "xz                        5.6.4                h5eee18b_1    defaults\n",
      "yaml                      0.2.5                h7f98852_2    conda-forge\n",
      "yarl                      1.20.1                   pypi_0    pypi\n",
      "zeromq                    4.3.5                h59595ed_1    conda-forge\n",
      "zict                      3.0.0                    pypi_0    pypi\n",
      "zipp                      3.17.0             pyhd8ed1ab_0    conda-forge\n",
      "zlib                      1.2.13               hd590300_5    conda-forge\n",
      "zstandard                 0.23.0          py310h2c38b39_1    defaults\n",
      "zstd                      1.5.6                hc292b87_0    defaults\n",
      "\n",
      "No errors reported.\n",
      "\n",
      "\n",
      "__Warning log__\n",
      "Warning (no file): /sys/fs/cgroup/cpuacct/cpu.cfs_quota_us\n",
      "Warning (no file): /sys/fs/cgroup/cpuacct/cpu.cfs_period_us\n",
      "--------------------------------------------------------------------------------\n",
      "If requested, please copy and paste the information between\n",
      "the dashed (----) lines, or from a given specific section as\n",
      "appropriate.\n",
      "\n",
      "=============================================================\n",
      "IMPORTANT: Please ensure that you are happy with sharing the\n",
      "contents of the information present, any information that you\n",
      "wish to keep private you should remove before sharing.\n",
      "=============================================================\n",
      "\n"
     ]
    }
   ],
   "source": [
    "!numba -s"
   ]
  },
  {
   "cell_type": "markdown",
   "id": "613c088c-d05e-4655-bba7-1adaf7b0f165",
   "metadata": {},
   "source": [
    "Ok - we have a GPU and it looks to be setup correctly. Lets try to use the CUPY library"
   ]
  },
  {
   "cell_type": "code",
   "execution_count": 4,
   "id": "b7317a41-fab9-4f23-893d-63867fd53c15",
   "metadata": {},
   "outputs": [],
   "source": [
    "import cupy as cp"
   ]
  },
  {
   "cell_type": "code",
   "execution_count": 5,
   "id": "af01590b-46f5-4abb-aea6-201fd54562bc",
   "metadata": {},
   "outputs": [
    {
     "data": {
      "text/plain": [
       "array([ 1.63037085,  0.62022341,  0.23962623, ..., -0.19829212,\n",
       "       -2.46828039, -0.32868927], shape=(5120,))"
      ]
     },
     "execution_count": 5,
     "metadata": {},
     "output_type": "execute_result"
    }
   ],
   "source": [
    "a = cp.random.normal(0, 1, 5 * 1024)\n",
    "a"
   ]
  },
  {
   "cell_type": "code",
   "execution_count": 6,
   "id": "b12290b0-9aa4-4947-851b-55f6ed5f5539",
   "metadata": {},
   "outputs": [
    {
     "data": {
      "text/plain": [
       "array([  8.05924927, -29.7449419 , -28.58452852,  39.92025844,\n",
       "         5.960045  ])"
      ]
     },
     "execution_count": 6,
     "metadata": {},
     "output_type": "execute_result"
    }
   ],
   "source": [
    "cp.sum(a.reshape(5, 1024), axis=1)"
   ]
  },
  {
   "cell_type": "markdown",
   "id": "71295975-f434-4994-ba0c-781c3d8c83e3",
   "metadata": {},
   "source": [
    "And Numba"
   ]
  },
  {
   "cell_type": "code",
   "execution_count": 5,
   "id": "6a46b684-f205-4f1a-98a5-6d83f83cd77d",
   "metadata": {},
   "outputs": [],
   "source": [
    "import numba as nb\n",
    "import numba.cuda"
   ]
  },
  {
   "cell_type": "code",
   "execution_count": 6,
   "id": "d2fa7781-1cea-4b04-a0f7-7b49dffb39dd",
   "metadata": {},
   "outputs": [],
   "source": [
    "@nb.cuda.jit\n",
    "def zero_out(array):\n",
    "    i = nb.cuda.grid(1)\n",
    "    array[i] = 0"
   ]
  },
  {
   "cell_type": "code",
   "execution_count": 7,
   "id": "b49b0480-f259-424c-95c0-64bb63cfda98",
   "metadata": {},
   "outputs": [],
   "source": [
    "zero_out[1024, 5](a)"
   ]
  },
  {
   "cell_type": "code",
   "execution_count": 8,
   "id": "d252f153-6946-4bdf-8056-b5fcf04ab74e",
   "metadata": {},
   "outputs": [
    {
     "data": {
      "text/plain": [
       "array([0., 0., 0., ..., 0., 0., 0.], shape=(5120,))"
      ]
     },
     "execution_count": 8,
     "metadata": {},
     "output_type": "execute_result"
    }
   ],
   "source": [
    "a"
   ]
  },
  {
   "cell_type": "markdown",
   "id": "3aa1731f-02b6-457d-8649-cda9dbf4bc6e",
   "metadata": {},
   "source": [
    "\n",
    "\n",
    "![](img/blocks-of-array.svg)\n",
    "\n",
    "If the `size_of_array` doesn't fit neatly into an integer number of blocks, a few threads will be wasted. To make sure that they don't update uninitialized data, you usually need to check for an excess in the kernel function:\n",
    "\n",
    "```cuda\n",
    "__global__ some_function(float* array) {\n",
    "    int index = blockIdx.x * blockDim.x + threadIdx.x;\n",
    "    if (index < size_of_array) {\n",
    "        array[index] = ...;\n",
    "    }\n",
    "}\n",
    "```\n"
   ]
  },
  {
   "cell_type": "markdown",
   "id": "3990087b-7a25-4ab9-94bd-85f218f3894f",
   "metadata": {},
   "source": [
    "## CuPy"
   ]
  },
  {
   "cell_type": "markdown",
   "id": "470859fa-88ff-4c8c-a337-4844b5e93729",
   "metadata": {},
   "source": [
    "[CuPy](https://cupy.dev/) is a library with _mostly_ the same interface as NumPy, but all arrays are in GPU memory, rather than the motherboard's RAM. Converting a NumPy array into a CuPy array, and vice-versa, copies data from RAM to GPU global memory and back."
   ]
  },
  {
   "cell_type": "code",
   "execution_count": 8,
   "id": "8ec1eae3-dae9-46bc-84a4-8cac6e764753",
   "metadata": {},
   "outputs": [],
   "source": [
    "import numpy as np\n",
    "import cupy as cp"
   ]
  },
  {
   "cell_type": "code",
   "execution_count": 9,
   "id": "9f5a0255-e7d3-46f4-82d9-f98054065a24",
   "metadata": {},
   "outputs": [],
   "source": [
    "array_in_ram = np.random.uniform(0, 1, 100000000)"
   ]
  },
  {
   "cell_type": "code",
   "execution_count": 10,
   "id": "e294f265-fac2-4e55-b975-32eb535eaa20",
   "metadata": {},
   "outputs": [],
   "source": [
    "array_on_gpu = cp.asarray(array_in_ram)"
   ]
  },
  {
   "cell_type": "code",
   "execution_count": 11,
   "id": "1ca9b1bf-ba9c-405a-be4e-39b9d276a9c2",
   "metadata": {},
   "outputs": [
    {
     "name": "stdout",
     "output_type": "stream",
     "text": [
      "60.9 ms ± 0 ns per loop (mean ± std. dev. of 1 run, 10 loops each)\n"
     ]
    }
   ],
   "source": [
    "%%timeit -r1 -n10\n",
    "\n",
    "array_in_ram[:] += 1"
   ]
  },
  {
   "cell_type": "code",
   "execution_count": 12,
   "id": "463c6f4c-446b-4021-a871-96b8dbbd9eb3",
   "metadata": {},
   "outputs": [
    {
     "name": "stdout",
     "output_type": "stream",
     "text": [
      "2.15 ms ± 0 ns per loop (mean ± std. dev. of 1 run, 10 loops each)\n"
     ]
    }
   ],
   "source": [
    "%%timeit -r1 -n10\n",
    "\n",
    "array_on_gpu[:] += 1"
   ]
  },
  {
   "cell_type": "markdown",
   "id": "c4cd1c53-c7ea-4e2a-8fe5-e927102f5960",
   "metadata": {},
   "source": [
    "It's important that the distinction is visible like this, since copying an array between RAM and the GPU is often more time-consuming than the computation itself."
   ]
  },
  {
   "cell_type": "code",
   "execution_count": 13,
   "id": "c55199a7-e664-415c-a432-a3df9f84a51d",
   "metadata": {},
   "outputs": [
    {
     "name": "stdout",
     "output_type": "stream",
     "text": [
      "134 ms ± 0 ns per loop (mean ± std. dev. of 1 run, 10 loops each)\n"
     ]
    }
   ],
   "source": [
    "%%timeit -r1 -n10\n",
    "\n",
    "cp.asarray(array_in_ram)   # from RAM to GPU"
   ]
  },
  {
   "cell_type": "code",
   "execution_count": 14,
   "id": "b55174fd-59ce-4e95-8c98-1ca26afcc40e",
   "metadata": {},
   "outputs": [
    {
     "name": "stdout",
     "output_type": "stream",
     "text": [
      "145 ms ± 0 ns per loop (mean ± std. dev. of 1 run, 10 loops each)\n"
     ]
    }
   ],
   "source": [
    "%%timeit -r1 -n10\n",
    "\n",
    "array_on_gpu.get()         # from GPU to RAM"
   ]
  },
  {
   "cell_type": "markdown",
   "id": "07c6f3e9-3332-4459-b879-8104866f8328",
   "metadata": {},
   "source": [
    "Thus, you'll want to keep the data on the device that is performing calculations for as long as possible. If data can be created on the GPU, such as random numbers for a Monte Carlo calculation, use CuPy's functions to do it."
   ]
  },
  {
   "cell_type": "code",
   "execution_count": 15,
   "id": "b0162b39-eea7-430e-9eba-1d41f8bcb574",
   "metadata": {},
   "outputs": [],
   "source": [
    "array_on_gpu = cp.random.uniform(0, 1, 100000000)"
   ]
  },
  {
   "cell_type": "markdown",
   "id": "e042cd99-7838-477e-9401-531982aaea71",
   "metadata": {},
   "source": [
    "We can see more of what's going on by running Nvidia's `nsys-ui` profiler on the following line:"
   ]
  },
  {
   "cell_type": "code",
   "execution_count": 16,
   "id": "e92cbaf4-1d18-4716-ac69-cb0038a20991",
   "metadata": {},
   "outputs": [
    {
     "data": {
      "text/plain": [
       "array([5.        , 5.00000007, 5.0000002 , ..., 9.99999962, 9.99999966,\n",
       "       9.9999998 ])"
      ]
     },
     "execution_count": 16,
     "metadata": {},
     "output_type": "execute_result"
    }
   ],
   "source": [
    "array = cp.random.uniform(5, 10, 100000000)\n",
    "array.sort()\n",
    "array"
   ]
  },
  {
   "cell_type": "markdown",
   "id": "8491eb34-317b-41d1-b672-a7ff70edd76e",
   "metadata": {},
   "source": [
    "![](img/nsys-profiler-1.png){. width=\"100%\"}\n",
    "\n",
    "The CUDA kernels (blue) from the first line runs\n",
    "\n",
    "* `cupy_random_x_mod_1`\n",
    "* `cupy_scale`\n",
    "\n",
    "to make the random numbers, followed by\n",
    "\n",
    "* `DeviceRadixSortHistogramKernel`\n",
    "* `DeviceRadixSortOnesweepKernel`\n",
    "\n",
    "to sort the random numbers. Meanwhile on the CPU (green), Python waits for the result with a\n",
    "\n",
    "* `cudaStreamSynchronize`\n",
    "\n",
    "Since the GPU is a separate device from the CPU, it runs independently. If you don't ask for the result, the Python function can finish while the GPU calculation is still running. It's only when you want to print the result, copy it to a NumPy array, or get any element as a Python number that CuPy asks the GPU to \"synchronize\"—wait for computation to be finished.\n",
    "\n",
    "Since the GPU runs independently, what should it do if it encounters an error part-way through processing? It can't raise a Python error (the Python function call has already finished), so it has to do something else instead. CuPy defines some results that would be errors in NumPy. For instance, this array-slice asks for elements beyond the end of the array:"
   ]
  },
  {
   "cell_type": "code",
   "execution_count": 17,
   "id": "d9cdce04-5ecb-482e-b773-aa045350349a",
   "metadata": {
    "editable": true,
    "slideshow": {
     "slide_type": ""
    },
    "tags": [
     "raises-exception"
    ]
   },
   "outputs": [
    {
     "ename": "IndexError",
     "evalue": "index 6 is out of bounds for axis 0 with size 6",
     "output_type": "error",
     "traceback": [
      "\u001b[0;31m---------------------------------------------------------------------------\u001b[0m",
      "\u001b[0;31mIndexError\u001b[0m                                Traceback (most recent call last)",
      "Cell \u001b[0;32mIn[17], line 3\u001b[0m\n\u001b[1;32m      1\u001b[0m array \u001b[38;5;241m=\u001b[39m np\u001b[38;5;241m.\u001b[39marray([\u001b[38;5;241m0.0\u001b[39m, \u001b[38;5;241m1.1\u001b[39m, \u001b[38;5;241m2.2\u001b[39m, \u001b[38;5;241m3.3\u001b[39m, \u001b[38;5;241m4.4\u001b[39m, \u001b[38;5;241m5.5\u001b[39m])\n\u001b[0;32m----> 3\u001b[0m \u001b[43marray\u001b[49m\u001b[43m[\u001b[49m\u001b[43mnp\u001b[49m\u001b[38;5;241;43m.\u001b[39;49m\u001b[43marray\u001b[49m\u001b[43m(\u001b[49m\u001b[43m[\u001b[49m\u001b[38;5;241;43m2\u001b[39;49m\u001b[43m,\u001b[49m\u001b[43m \u001b[49m\u001b[38;5;241;43m3\u001b[39;49m\u001b[43m,\u001b[49m\u001b[43m \u001b[49m\u001b[38;5;241;43m5\u001b[39;49m\u001b[43m,\u001b[49m\u001b[43m \u001b[49m\u001b[38;5;241;43m6\u001b[39;49m\u001b[43m,\u001b[49m\u001b[43m \u001b[49m\u001b[38;5;241;43m7\u001b[39;49m\u001b[43m,\u001b[49m\u001b[43m \u001b[49m\u001b[38;5;241;43m8\u001b[39;49m\u001b[43m]\u001b[49m\u001b[43m)\u001b[49m\u001b[43m]\u001b[49m\n",
      "\u001b[0;31mIndexError\u001b[0m: index 6 is out of bounds for axis 0 with size 6"
     ]
    }
   ],
   "source": [
    "array = np.array([0.0, 1.1, 2.2, 3.3, 4.4, 5.5])\n",
    "\n",
    "array[np.array([2, 3, 5, 6, 7, 8])]"
   ]
  },
  {
   "cell_type": "markdown",
   "id": "fcbce4b4-1937-4f0e-b2d6-23f3b07f70ca",
   "metadata": {},
   "source": [
    "But CuPy returns a result by wrapping the indexes around to the beginning of the array (6 → 0, 7 → 1, 8 → 2):"
   ]
  },
  {
   "cell_type": "code",
   "execution_count": 18,
   "id": "6f368209-743b-461b-be5f-2e0bdf0c7950",
   "metadata": {},
   "outputs": [
    {
     "data": {
      "text/plain": [
       "array([2.2, 3.3, 5.5, 0. , 1.1, 2.2])"
      ]
     },
     "execution_count": 18,
     "metadata": {},
     "output_type": "execute_result"
    }
   ],
   "source": [
    "array = cp.array([0.0, 1.1, 2.2, 3.3, 4.4, 5.5])\n",
    "\n",
    "array[cp.array([2, 3, 5, 6, 7, 8])]"
   ]
  },
  {
   "cell_type": "markdown",
   "id": "fa2c9f19-90bb-4994-9475-023e8fc9456d",
   "metadata": {},
   "source": [
    "So you may need to check the correctness of your code in NumPy before running it at high speed in CuPy.\n",
    "\n",
    "Next, we should note that just replacing NumPy with CuPy has the same shortcoming as array-oriented Python versus compiled code: although it's a first (easy) step toward speeding up a computation, it's not the fastest possible because intermediate arrays have to be allocated in each step.\n",
    "\n",
    "Remember how the quadratic formula"
   ]
  },
  {
   "cell_type": "code",
   "execution_count": 19,
   "id": "3a8473ac-8484-4952-a0b5-72a949ffd75b",
   "metadata": {},
   "outputs": [
    {
     "data": {
      "text/plain": [
       "array([ 0.00354629,  0.00108686, -0.0014943 , ...,  0.00375009,\n",
       "        0.00123045, -0.00259124])"
      ]
     },
     "execution_count": 19,
     "metadata": {},
     "output_type": "execute_result"
    }
   ],
   "source": [
    "a = cp.random.uniform(5, 10, 1000000)\n",
    "b = cp.random.uniform(10, 20, 1000000)\n",
    "c = cp.random.uniform(-0.1, 0.1, 1000000)\n",
    "\n",
    "(-b + cp.sqrt(b**2 - 4*a*c)) / (2*a)"
   ]
  },
  {
   "cell_type": "markdown",
   "id": "4541d227-e702-48d5-b1d1-314fece076ee",
   "metadata": {},
   "source": [
    "is roughly equivalent to"
   ]
  },
  {
   "cell_type": "code",
   "execution_count": 20,
   "id": "0dc324eb-301a-4bd7-b581-978ddb6e668f",
   "metadata": {},
   "outputs": [
    {
     "data": {
      "text/plain": [
       "array([ 0.00354629,  0.00108686, -0.0014943 , ...,  0.00375009,\n",
       "        0.00123045, -0.00259124])"
      ]
     },
     "execution_count": 20,
     "metadata": {},
     "output_type": "execute_result"
    }
   ],
   "source": [
    "tmp1 = cp.negative(b)            # -b\n",
    "tmp2 = cp.square(b)              # b**2\n",
    "tmp3 = cp.multiply(4, a)         # 4*a\n",
    "tmp4 = cp.multiply(tmp3, c)      # tmp3*c\n",
    "del tmp3\n",
    "tmp5 = cp.subtract(tmp2, tmp4)   # tmp2 - tmp4\n",
    "del tmp2, tmp4\n",
    "tmp6 = cp.sqrt(tmp5)             # sqrt(tmp5)\n",
    "del tmp5\n",
    "tmp7 = cp.add(tmp1, tmp6)        # tmp1 + tmp6\n",
    "del tmp1, tmp6\n",
    "tmp8 = cp.multiply(2, a)         # 2*a\n",
    "np.divide(tmp7, tmp8)            # tmp7 / tmp8"
   ]
  },
  {
   "cell_type": "markdown",
   "id": "62791140-a508-4bf4-8e68-c1ac0a5eb7e7",
   "metadata": {},
   "source": [
    "Here's what that looks like in the profiler:\n",
    "\n",
    "![](img/nsys-profiler-2.png){. width=\"100%\"}\n",
    "\n",
    "Each of the\n",
    "\n",
    "* `cupy_power__float64_float_float64`\n",
    "* `cupy_multiply__float_float64_float64`\n",
    "* `cupy_sqrt__float64_float64`\n",
    "* `cupy_true_divide__float64_float64_float64`\n",
    "* `cupy_multiply__float64_float64_float64`\n",
    "* `cupy_subtract__float64_float64_float64`\n",
    "* `cupy_add__float64_float64_float64`\n",
    "* `cupy_negative__float64_float64`\n",
    "\n",
    "kernels runs quickly, but there are time-gaps between them in which arrays are allocated and dynamic code decides what to do next. It would be faster if the whole quadratic formula were \"fused\" into a single kernel.\n",
    "\n",
    "To support this, CuPy has a JIT compiler that lets you write C++ CUDA code. For instance, the worst part of the calculation above is using a general floating-point `power` function,\n",
    "\n",
    "* `cupy_power__float64_float_float64`\n",
    "\n",
    "to compute `power(b, 2)`, which should be just `b * b`. Let's define a better function for \"raising to an integer power\"."
   ]
  },
  {
   "cell_type": "code",
   "execution_count": 21,
   "id": "b616b474-ecf5-4a44-9e4b-055ebe9a02e4",
   "metadata": {},
   "outputs": [
    {
     "data": {
      "text/plain": [
       "<cupy._core._kernel.ElementwiseKernel at 0x7228e4267060>"
      ]
     },
     "execution_count": 21,
     "metadata": {},
     "output_type": "execute_result"
    }
   ],
   "source": [
    "intpow = cp.ElementwiseKernel(\"float64 x, int64 n\", \"float64 out\", '''\n",
    "    out = 1.0;\n",
    "    for (int i = 0;  i < n;  i++) {\n",
    "        out *= x;\n",
    "    }\n",
    "''', \"intpow\")\n",
    "intpow"
   ]
  },
  {
   "cell_type": "code",
   "execution_count": 22,
   "id": "76a05fc2-3b6e-4e44-ac69-999539a25815",
   "metadata": {},
   "outputs": [
    {
     "data": {
      "text/plain": [
       "array([349.69803979, 119.27597606, 300.9489732 , ..., 227.78363405,\n",
       "       235.76110542, 178.84017007])"
      ]
     },
     "execution_count": 22,
     "metadata": {},
     "output_type": "execute_result"
    }
   ],
   "source": [
    "intpow(b, 2)"
   ]
  },
  {
   "cell_type": "code",
   "execution_count": 23,
   "id": "e20568fe-fa91-480e-9870-77b7505d1bf6",
   "metadata": {},
   "outputs": [
    {
     "data": {
      "text/plain": [
       "array([349.69803979, 119.27597606, 300.9489732 , ..., 227.78363405,\n",
       "       235.76110542, 178.84017007])"
      ]
     },
     "execution_count": 23,
     "metadata": {},
     "output_type": "execute_result"
    }
   ],
   "source": [
    "b**2"
   ]
  },
  {
   "cell_type": "markdown",
   "id": "ee8b1820-14c4-4e9b-b968-edfadb6b1de3",
   "metadata": {},
   "source": [
    "We can also do this with the whole quadratic formula."
   ]
  },
  {
   "cell_type": "code",
   "execution_count": 24,
   "id": "b49a3004-9b9b-443d-a0cf-b8cf1c7a5f10",
   "metadata": {},
   "outputs": [
    {
     "data": {
      "text/plain": [
       "array([ 0.00354629,  0.00108686, -0.0014943 , ...,  0.00375009,\n",
       "        0.00123045, -0.00259124])"
      ]
     },
     "execution_count": 24,
     "metadata": {},
     "output_type": "execute_result"
    }
   ],
   "source": [
    "quadratic_formula = cp.ElementwiseKernel(\"float64 a, float64 b, float64 c\", \"float64 out\", '''\n",
    "    out = (-b + sqrt(b*b - 4*a*c)) / (2*a);\n",
    "''', \"quadratic_formula\")\n",
    "\n",
    "quadratic_formula(a, b, c)"
   ]
  },
  {
   "cell_type": "code",
   "execution_count": 25,
   "id": "94378943-eab0-4256-9285-945d5cccd2e3",
   "metadata": {},
   "outputs": [
    {
     "name": "stdout",
     "output_type": "stream",
     "text": [
      "1.34 ms ± 0 ns per loop (mean ± std. dev. of 1 run, 1,000 loops each)\n"
     ]
    }
   ],
   "source": [
    "%%timeit -r1 -n1000\n",
    "\n",
    "(-b + cp.sqrt(b**2 - 4*a*c)) / (2*a)"
   ]
  },
  {
   "cell_type": "code",
   "execution_count": 26,
   "id": "16613ff7-5372-4ca3-a7c5-421c50b966c3",
   "metadata": {},
   "outputs": [
    {
     "name": "stdout",
     "output_type": "stream",
     "text": [
      "163 μs ± 0 ns per loop (mean ± std. dev. of 1 run, 1,000 loops each)\n"
     ]
    }
   ],
   "source": [
    "%%timeit -r1 -n1000\n",
    "\n",
    "quadratic_formula(a, b, c)"
   ]
  },
  {
   "cell_type": "markdown",
   "id": "5c116327-aeed-49ab-9499-5cf695c5ccc6",
   "metadata": {},
   "source": [
    "Both of the above used [ElementwiseKernel](https://docs.cupy.dev/en/stable/user_guide/kernel.html), which is like a NumPy ufunc: they take arrays and apply the function to each element. We could also write a fully generic [RawKernel](https://docs.cupy.dev/en/stable/user_guide/kernel.html#raw-kernels), but then we'd have to manage the `threads_per_block` and `blocks_per_grid` manually."
   ]
  },
  {
   "cell_type": "code",
   "execution_count": 27,
   "id": "ef08c8f4-9b4f-488e-9ff1-932c54e612a1",
   "metadata": {},
   "outputs": [
    {
     "data": {
      "text/plain": [
       "array([ 0.00354629,  0.00108686, -0.0014943 , ...,  0.00375009,\n",
       "        0.00123045, -0.00259124])"
      ]
     },
     "execution_count": 27,
     "metadata": {},
     "output_type": "execute_result"
    }
   ],
   "source": [
    "quadratic_formula_raw = cp.RawKernel(r'''\n",
    "extern \"C\" __global__\n",
    "void quadratic_formula_raw(const double* a, const double* b, const double* c, int length, double* out) {\n",
    "    int i = blockDim.x * blockIdx.x + threadIdx.x;\n",
    "    if (i < length) {\n",
    "        out[i] = (-b[i] + sqrt(b[i]*b[i] - 4*a[i]*c[i])) / (2*a[i]);\n",
    "    }\n",
    "}\n",
    "''', \"quadratic_formula_raw\")\n",
    "\n",
    "out = cp.empty_like(a)\n",
    "\n",
    "threads_per_block = 1024\n",
    "blocks_per_grid = int(np.ceil(len(out) / 1024))\n",
    "\n",
    "quadratic_formula_raw((blocks_per_grid,), (threads_per_block,), (a, b, c, len(out), out))\n",
    "\n",
    "out"
   ]
  },
  {
   "cell_type": "markdown",
   "id": "9011ae3e-86b0-46eb-9c48-3926b01ddaf4",
   "metadata": {},
   "source": [
    "Thus, CuPy is two things:\n",
    "\n",
    "* an array library with the NumPy interface, but all arrays are on GPUs,\n",
    "* a JIT compiler of CUDA kernels written in C++.\n",
    "\n",
    "This situation is similar to writing custom C++ code with pybind11, rather than writing the kernel in Python."
   ]
  },
  {
   "cell_type": "markdown",
   "id": "01356173-c8dd-454e-afd0-5138ce0c4ee9",
   "metadata": {},
   "source": [
    "## Numba"
   ]
  },
  {
   "cell_type": "markdown",
   "id": "3477adb5-3554-4112-b410-c3f31a25204a",
   "metadata": {},
   "source": [
    "Just as Numba can JIT compile Python for CPUs, it can [JIT compile Python to CUDA](https://numba.readthedocs.io/en/stable/cuda/index.html).\n",
    "\n",
    "Here's the quadratic formula as a single CUDA kernel without writing any C++."
   ]
  },
  {
   "cell_type": "code",
   "execution_count": 28,
   "id": "a55a531c-a66a-45b0-a551-5f815691f60e",
   "metadata": {},
   "outputs": [],
   "source": [
    "import numba.cuda  # must be explicitly imported\n",
    "import math        # note that Numba-CUDA requires math.*; you can't use np.*"
   ]
  },
  {
   "cell_type": "code",
   "execution_count": 29,
   "id": "de305454-fe63-4963-b1db-c2a396567c89",
   "metadata": {},
   "outputs": [
    {
     "data": {
      "text/plain": [
       "array([ 0.00354629,  0.00108686, -0.0014943 , ...,  0.00375009,\n",
       "        0.00123045, -0.00259124])"
      ]
     },
     "execution_count": 29,
     "metadata": {},
     "output_type": "execute_result"
    }
   ],
   "source": [
    "@nb.cuda.jit\n",
    "def quadratic_formula_numba_cuda(a, b, c, out):\n",
    "    i = nb.cuda.grid(1)   # 1-dimensional\n",
    "    if i < len(out):\n",
    "        out[i] = (-b[i] + math.sqrt(b[i]**2 - 4*a[i]*c[i])) / (2*a[i])\n",
    "\n",
    "out = cp.empty_like(a)\n",
    "\n",
    "threads_per_block = 1024\n",
    "blocks_per_grid = int(np.ceil(len(out) / 1024))\n",
    "\n",
    "quadratic_formula_numba_cuda[blocks_per_grid, threads_per_block](a, b, c, out)\n",
    "\n",
    "out"
   ]
  },
  {
   "attachments": {},
   "cell_type": "markdown",
   "id": "9225857c-56a8-4d76-b0b3-52816468367b",
   "metadata": {},
   "source": [
    "Here's what it looks like in the profiler:\n",
    "\n",
    "![](img/nsys-profiler-3.png){. width=\"100%\"}\n",
    "\n",
    "The name is a long random string, but it all runs in a short block of time.\n",
    "\n",
    "Note that the structure of a `@nb.cuda.jit` compiled function is equivalent to a C++ CUDA function: all that has changed is the Python syntax and the names of some of the functions:\n",
    "\n",
    "```cuda\n",
    "extern \"C\" __global__\n",
    "void quadratic_formula_raw(const double* a, const double* b, const double* c, int length, double* out) {\n",
    "    int i = blockDim.x * blockIdx.x + threadIdx.x;\n",
    "    if (i < length) {\n",
    "        out[i] = (-b[i] + sqrt(b[i]*b[i] - 4*a[i]*c[i])) / (2*a[i]);\n",
    "    }\n",
    "}\n",
    "\n",
    "quadratic_formula_raw<<<blocks_per_grid, threads_per_block>>>(a, b, c, size_of_array, out);\n",
    "```\n",
    "\n",
    "versus\n",
    "\n",
    "```python\n",
    "@nb.cuda.jit\n",
    "def quadratic_formula_numba_cuda(a, b, c, out):\n",
    "    i = nb.cuda.grid(1)   # 1-dimensional\n",
    "    if i < len(out):\n",
    "        out[i] = (-b[i] + math.sqrt(b[i]**2 - 4*a[i]*c[i])) / (2*a[i])\n",
    "\n",
    "quadratic_formula_numba_cuda[blocks_per_grid, threads_per_block](a, b, c, out)\n",
    "```\n",
    "\n",
    "You still have to choose an optimal `blocks_per_grid` and `threads_per_block`, and the kernel gets its thread index through a special function, [nb.cuda.grid](https://numba.readthedocs.io/en/stable/cuda-reference/kernel.html#numba.cuda.grid)."
   ]
  },
  {
   "cell_type": "markdown",
   "id": "44b737ac-c8cc-4ef8-890a-00eb030a9a90",
   "metadata": {},
   "source": [
    "## JAX"
   ]
  },
  {
   "cell_type": "markdown",
   "id": "c2ac01a2-3d9b-4bb2-bb36-83d5c21b7c6c",
   "metadata": {},
   "source": [
    "Just as JAX inspects array-oriented code, identifies which functions can be fused, and JIT compiles the fused kernel for the CPU, it can do the same for GPUs. In fact, a JAX array has a `device` parameter that determines whether it will be in RAM or on the GPU.\n",
    "\n",
    "Instead of performing the same demonstration with the quadratic formula, see `mandelbrot-on-all-accelerators.ipynb` in your `notebooks` folder. It takes a single calculation, which draws the Mandelbrot set, and accelerates it using all of the techniques we've discussed, including CuPy's RawKernel, Numba-CUDA, and JAX-CUDA. Here's the bottom line:\n",
    "\n",
    "![](img/plot-mandelbrot-on-all-accelerators.svg){. width=\"100%\"}\n",
    "\n",
    "Custom CUDA kernels are the fastest, regardless of whether they are compiled by CuPy, Numba, or JAX."
   ]
  },
  {
   "cell_type": "markdown",
   "id": "66580f6d-050e-42d1-b02d-61b498a2ba74",
   "metadata": {},
   "source": [
    "## Awkward Array"
   ]
  },
  {
   "cell_type": "markdown",
   "id": "58c839b6-530d-4439-a4ae-a325229e7ce6",
   "metadata": {},
   "source": [
    "Awkward Arrays can be copied to a GPU using [ak.to_backend](https://awkward-array.org/doc/main/reference/generated/ak.to_backend.html) with `backend=\"cuda\"`."
   ]
  },
  {
   "cell_type": "code",
   "execution_count": 30,
   "id": "7d66e80b-4956-4cd9-9751-587e2465ad5a",
   "metadata": {},
   "outputs": [],
   "source": [
    "import awkward as ak\n",
    "import uproot"
   ]
  },
  {
   "cell_type": "code",
   "execution_count": 31,
   "id": "bde3cb25-4fe9-4d88-8dc5-475845cb6f23",
   "metadata": {},
   "outputs": [],
   "source": [
    "with uproot.open(\"data/SMHiggsToZZTo4L.root:Events\") as tree:\n",
    "    events_pt, events_eta, events_phi, events_charge = tree.arrays(\n",
    "        [\"Electron_pt\", \"Electron_eta\", \"Electron_phi\", \"Electron_charge\"], how=tuple\n",
    "    )"
   ]
  },
  {
   "cell_type": "code",
   "execution_count": 32,
   "id": "5612e4ea-5521-46af-904c-bdb07581ccf6",
   "metadata": {},
   "outputs": [
    {
     "data": {
      "text/html": [
       "<pre>[[],\n",
       " [{pt: 21.90268, eta: -0.7021887, phi: 0.13399617, charge: 1}, ..., {...}],\n",
       " [{pt: 11.571167, eta: -0.8493275, phi: 2.1804526, charge: -1}, {...}],\n",
       " [{pt: 10.413637, eta: -0.022762615, phi: -0.64317286, charge: -1}],\n",
       " [{pt: 30.733414, eta: -0.610117, phi: 1.0087388, charge: -1}, ..., {...}],\n",
       " [{pt: 16.080765, eta: 0.34038106, phi: -0.4972907, charge: 1}],\n",
       " [{pt: 5.3183117, eta: -0.5736427, phi: -1.4705021, charge: -1}],\n",
       " [{pt: 6.988549, eta: 0.52973014, phi: -0.6329002, charge: 1}],\n",
       " [{pt: 40.959602, eta: -0.21598065, phi: 2.7890391, charge: -1}, ..., {...}],\n",
       " [],\n",
       " ...,\n",
       " [{pt: 19.12917, eta: 1.1267458, phi: -0.4354926, charge: -1}, {...}],\n",
       " [{pt: 30.197298, eta: 1.8354917, phi: 1.9399015, charge: 1}],\n",
       " [],\n",
       " [{pt: 37.00934, eta: -2.3536925, phi: 0.9030401, charge: 1}, ..., {...}],\n",
       " [],\n",
       " [{pt: 12.313824, eta: -0.27283365, phi: -3.108863, charge: 1}],\n",
       " [],\n",
       " [{pt: 17.923506, eta: 2.2025933, phi: -1.1234515, charge: -1}, {...}],\n",
       " [{pt: 48.07147, eta: 0.53210974, phi: -1.6076394, charge: -1}, {...}]]\n",
       "---------------------------------------------------------------------------------------------------------\n",
       "backend: cuda\n",
       "nbytes: 9.2 MB\n",
       "type: 299973 * var * Momentum4D[\n",
       "    pt: float32,\n",
       "    eta: float32,\n",
       "    phi: float32,\n",
       "    charge: int32\n",
       "]</pre>"
      ],
      "text/plain": [
       "<Array [[], ..., [{pt: 48.07147, ...}, ...]] type='299973 * var * Momentum4...'>"
      ]
     },
     "execution_count": 32,
     "metadata": {},
     "output_type": "execute_result"
    }
   ],
   "source": [
    "electrons = ak.to_backend(\n",
    "    ak.zip({\n",
    "        \"pt\": events_pt,\n",
    "        \"eta\": events_eta,\n",
    "        \"phi\": events_phi,\n",
    "        \"charge\": events_charge,\n",
    "    },\n",
    "    with_name=\"Momentum4D\",\n",
    "), \"cuda\")\n",
    "\n",
    "electrons"
   ]
  },
  {
   "cell_type": "markdown",
   "id": "2ada706a-dea6-43ee-b82d-ee3743e80aaf",
   "metadata": {},
   "source": [
    "With this backend, all mathematical computations are performed by CuPy (directly or through JIT compiled functions).\n",
    "\n",
    "Below is a calculation of the mass of the heaviest dielectron in each event, using\n",
    "\n",
    "$$\\sqrt{2\\,{p_T}_1\\,{p_T}_2\\left(\\cosh(\\eta_1 - \\eta_2) - \\cos(\\phi_1 - \\phi_2)\\right)}$$\n",
    "\n",
    "for the invariant mass."
   ]
  },
  {
   "cell_type": "code",
   "execution_count": 33,
   "id": "9ba1ab6a-733d-4bae-8a92-57c5b98b744c",
   "metadata": {},
   "outputs": [
    {
     "data": {
      "text/html": [
       "<pre>[None,\n",
       " 76.752525,\n",
       " 36.007294,\n",
       " None,\n",
       " 87.34057,\n",
       " None,\n",
       " None,\n",
       " None,\n",
       " 92.22189,\n",
       " None,\n",
       " ...,\n",
       " 27.277554,\n",
       " None,\n",
       " None,\n",
       " 107.22261,\n",
       " None,\n",
       " None,\n",
       " None,\n",
       " 40.64742,\n",
       " 91.51784]\n",
       "-----------------------\n",
       "backend: cuda\n",
       "nbytes: 1.5 MB\n",
       "type: 299973 * ?float32</pre>"
      ],
      "text/plain": [
       "<Array [None, 76.752525, ..., 40.64742, 91.51784] type='299973 * ?float32'>"
      ]
     },
     "execution_count": 33,
     "metadata": {},
     "output_type": "execute_result"
    }
   ],
   "source": [
    "e1, e2 = ak.unzip(ak.combinations(electrons, 2))\n",
    "z_mass = np.sqrt(\n",
    "    2*e1.pt*e2.pt * (np.cosh(e1.eta - e2.eta) - np.cos(e1.phi - e2.phi))\n",
    ")\n",
    "np.max(z_mass, axis=-1)"
   ]
  },
  {
   "cell_type": "markdown",
   "id": "f60979df-226d-420f-a608-9baf536acafd",
   "metadata": {},
   "source": [
    "GPU-bound Awkward Arrays can also be iterated over in Numba-CUDA, which allows for imperative code. However, the output must be a non-ragged CuPy array."
   ]
  },
  {
   "cell_type": "code",
   "execution_count": 34,
   "id": "648cbbb1-1900-47f9-98e1-c791eac4876e",
   "metadata": {},
   "outputs": [
    {
     "data": {
      "text/plain": [
       "array([ 0.      , 76.752525, 36.007294, ...,  0.      , 40.647415,\n",
       "       91.51784 ], dtype=float32)"
      ]
     },
     "execution_count": 34,
     "metadata": {},
     "output_type": "execute_result"
    }
   ],
   "source": [
    "ak.numba.register_and_check()\n",
    "\n",
    "@nb.cuda.jit(extensions=[ak.numba.cuda])\n",
    "def mass_of_heaviest_dielectron(electrons, out):\n",
    "    thread_idx = nb.cuda.grid(1)\n",
    "    if thread_idx < len(electrons):\n",
    "        electrons_in_one_event = electrons[thread_idx]\n",
    "        for i, e1 in enumerate(electrons_in_one_event):\n",
    "            for e2 in electrons_in_one_event[i + 1:]:\n",
    "                if e1.charge != e2.charge:\n",
    "                    m = math.sqrt(\n",
    "                        2*e1.pt*e2.pt * (math.cosh(e1.eta - e2.eta) - math.cos(e1.phi - e2.phi))\n",
    "                    )\n",
    "                    if m > out[thread_idx]:\n",
    "                        out[thread_idx] = m\n",
    "\n",
    "threads_per_block = 1024\n",
    "blocks_per_grid = int(np.ceil(len(electrons) / 1024))\n",
    "\n",
    "out = cp.zeros(len(electrons), dtype=np.float32)\n",
    "mass_of_heaviest_dielectron[blocks_per_grid, threads_per_block](electrons, out)\n",
    "\n",
    "out"
   ]
  },
  {
   "cell_type": "markdown",
   "id": "d5792b91-638d-43a7-969d-a74a74776a91",
   "metadata": {},
   "source": [
    "To make this a little more readable, let's rewrite it as a `__device__` function, which is a function that has a return value (doesn't have to overwrite an array) but can only be called from GPU-bound functions."
   ]
  },
  {
   "cell_type": "code",
   "execution_count": 35,
   "id": "a0ff2d11-0759-452c-9b7b-9512f99760da",
   "metadata": {},
   "outputs": [
    {
     "data": {
      "text/plain": [
       "array([ 0.      , 76.752525, 36.007294, ...,  0.      , 40.647415,\n",
       "       91.51784 ], dtype=float32)"
      ]
     },
     "execution_count": 35,
     "metadata": {},
     "output_type": "execute_result"
    }
   ],
   "source": [
    "@nb.cuda.jit(extensions=[ak.numba.cuda], device=True)\n",
    "def compute_mass(event):\n",
    "    out = np.float32(0)\n",
    "    for i, e1 in enumerate(event):\n",
    "        for e2 in event[i + 1:]:\n",
    "            if e1.charge != e2.charge:\n",
    "                m = math.sqrt(\n",
    "                    2*e1.pt*e2.pt * (math.cosh(e1.eta - e2.eta) - math.cos(e1.phi - e2.phi))\n",
    "                )\n",
    "                if m > out:\n",
    "                    out = m\n",
    "    return out\n",
    "\n",
    "@nb.cuda.jit(extensions=[ak.numba.cuda])\n",
    "def mass_of_heaviest_dielectron_2(events, out):\n",
    "    thread_idx = nb.cuda.grid(1)\n",
    "    if thread_idx < len(events):\n",
    "        out[thread_idx] = compute_mass(events[thread_idx])\n",
    "\n",
    "# same threads_per_block, blocks_per_grid\n",
    "\n",
    "out = cp.zeros(len(electrons), dtype=np.float32)\n",
    "mass_of_heaviest_dielectron_2[blocks_per_grid, threads_per_block](electrons, out)\n",
    "\n",
    "out"
   ]
  },
  {
   "cell_type": "markdown",
   "id": "e58e6493-d6fe-49e4-b8b0-9f9928dcf457",
   "metadata": {},
   "source": [
    "## Lesson 5 project: Histograms and Monte Carlo on GPUs"
   ]
  },
  {
   "cell_type": "markdown",
   "id": "efd2ea66-a616-4b20-a0e5-75aac39c90e5",
   "metadata": {},
   "source": [
    "As described in the [intro](0-intro.md), navigate to the `notebooks` directory and open `lesson-5-project.ipynb`, then follow its instructions."
   ]
  }
 ],
 "metadata": {
  "kernelspec": {
   "display_name": "Python 3 (ipykernel)",
   "language": "python",
   "name": "python3"
  },
  "language_info": {
   "codemirror_mode": {
    "name": "ipython",
    "version": 3
   },
   "file_extension": ".py",
   "mimetype": "text/x-python",
   "name": "python",
   "nbconvert_exporter": "python",
   "pygments_lexer": "ipython3",
   "version": "3.10.18"
  }
 },
 "nbformat": 4,
 "nbformat_minor": 5
}
